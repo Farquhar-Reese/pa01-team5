{
 "cells": [
  {
   "cell_type": "markdown",
   "metadata": {},
   "source": [
    "# Courses Demo\n",
    "This Jupyter notebook is for exploring the data set courses20-21.json\n",
    "which consists of all Brandeis courses in the 20-21 academic year (Fall20, Spr21, Sum21) \n",
    "which had at least 1 student enrolled.\n",
    "\n",
    "First we need to read the json file into a list of Python dictionaries"
   ]
  },
  {
   "cell_type": "code",
   "execution_count": 1,
   "metadata": {},
   "outputs": [],
   "source": [
    "import json"
   ]
  },
  {
   "cell_type": "code",
   "execution_count": 2,
   "metadata": {},
   "outputs": [],
   "source": [
    "with open(\"courses20-21.json\",\"r\",encoding='utf-8') as jsonfile:\n",
    "    courses = json.load(jsonfile)"
   ]
  },
  {
   "cell_type": "markdown",
   "metadata": {},
   "source": [
    "## Structure of a course\n",
    "Next we look at the fields of each course dictionary and their values"
   ]
  },
  {
   "cell_type": "code",
   "execution_count": 3,
   "metadata": {},
   "outputs": [
    {
     "name": "stdout",
     "output_type": "stream",
     "text": [
      "there are 7813 courses in the dataset\n",
      "here is the data for course 1246\n"
     ]
    },
    {
     "data": {
      "text/plain": [
       "{'limit': 28,\n",
       " 'times': [{'start': 1080, 'end': 1170, 'days': ['w', 'm']}],\n",
       " 'enrolled': 4,\n",
       " 'details': 'Instruction for this course will be offered remotely. Meeting times for this course are listed in the schedule of classes (in ET).',\n",
       " 'type': 'section',\n",
       " 'status_text': 'Open',\n",
       " 'section': '1',\n",
       " 'waiting': 0,\n",
       " 'instructor': ['An', 'Huang', 'anhuang@brandeis.edu'],\n",
       " 'coinstructors': [],\n",
       " 'code': ['MATH', '223A'],\n",
       " 'subject': 'MATH',\n",
       " 'coursenum': '223A',\n",
       " 'name': 'Lie Algebras: Representation Theory',\n",
       " 'independent_study': False,\n",
       " 'term': '1203',\n",
       " 'description': \"Theorems of Engel and Lie. Semisimple Lie algebras, Cartan's criterion. Universal enveloping algebras, PBW theorem, Serre's construction. Representation theory. Other topics as time permits. Usually offered every second year.\\nAn Huang\"}"
      ]
     },
     "execution_count": 3,
     "metadata": {},
     "output_type": "execute_result"
    }
   ],
   "source": [
    "print('there are',len(courses),'courses in the dataset')\n",
    "print('here is the data for course 1246')\n",
    "courses[1246]"
   ]
  },
  {
   "cell_type": "markdown",
   "metadata": {},
   "source": [
    "## Cleaning the data\n",
    "If we want to sort courses by instructor or by code, we need to replace the lists with tuples (which are immutable lists)"
   ]
  },
  {
   "cell_type": "code",
   "execution_count": 4,
   "metadata": {},
   "outputs": [],
   "source": [
    "for course in courses:\n",
    "        course['instructor'] = tuple(course['instructor'])\n",
    "        course['coinstructors'] = tuple([tuple(f) for f in course['coinstructors']])\n",
    "        course['code']= tuple(course['code'])"
   ]
  },
  {
   "cell_type": "code",
   "execution_count": 5,
   "metadata": {},
   "outputs": [
    {
     "name": "stdout",
     "output_type": "stream",
     "text": [
      "notice that the instructor and code are tuples now\n"
     ]
    },
    {
     "data": {
      "text/plain": [
       "{'limit': 28,\n",
       " 'times': [{'start': 1080, 'end': 1170, 'days': ['w', 'm']}],\n",
       " 'enrolled': 4,\n",
       " 'details': 'Instruction for this course will be offered remotely. Meeting times for this course are listed in the schedule of classes (in ET).',\n",
       " 'type': 'section',\n",
       " 'status_text': 'Open',\n",
       " 'section': '1',\n",
       " 'waiting': 0,\n",
       " 'instructor': ('An', 'Huang', 'anhuang@brandeis.edu'),\n",
       " 'coinstructors': (),\n",
       " 'code': ('MATH', '223A'),\n",
       " 'subject': 'MATH',\n",
       " 'coursenum': '223A',\n",
       " 'name': 'Lie Algebras: Representation Theory',\n",
       " 'independent_study': False,\n",
       " 'term': '1203',\n",
       " 'description': \"Theorems of Engel and Lie. Semisimple Lie algebras, Cartan's criterion. Universal enveloping algebras, PBW theorem, Serre's construction. Representation theory. Other topics as time permits. Usually offered every second year.\\nAn Huang\"}"
      ]
     },
     "execution_count": 5,
     "metadata": {},
     "output_type": "execute_result"
    }
   ],
   "source": [
    "print('notice that the instructor and code are tuples now')\n",
    "courses[1246]"
   ]
  },
  {
   "cell_type": "markdown",
   "metadata": {},
   "source": [
    "# Exploring the data set\n",
    "Now we will show how to use straight python to explore the data set and answer some interesting questions. Next week we will start learning Pandas/Numpy which are packages that make it easier to explore large dataset efficiently.\n",
    "\n",
    "Here are some questions we can try to asnwer:\n",
    "* what are all of the subjects of courses (e.g. COSI, MATH, JAPN, PHIL, ...)\n",
    "* which terms are represented?\n",
    "* how many instructors taught at Brandeis last year?\n",
    "* what were the five largest course sections?\n",
    "* what were the five largest courses (where we combine sections)?\n",
    "* which are the five largest subjects measured by number of courses offered?\n",
    "* which are the five largest courses measured by number of students taught?\n",
    "* which course had the most sections taught in 20-21?\n",
    "* who are the top five faculty in terms of number of students taught?\n",
    "* etc."
   ]
  },
  {
   "cell_type": "code",
   "execution_count": 6,
   "metadata": {},
   "outputs": [],
   "source": [
    "#method for finding median of a list\n",
    "def median(l):\n",
    "    half = len(l) // 2\n",
    "    l.sort()\n",
    "    if not len(l) % 2:\n",
    "        return (l[half - 1] + l[half]) / 2\n",
    "    return l[half]"
   ]
  },
  {
   "cell_type": "code",
   "execution_count": 12,
   "metadata": {},
   "outputs": [
    {
     "name": "stdout",
     "output_type": "stream",
     "text": [
      "list = [('HRNS', 164), ('BUS', 2766), ('ECON', 2315), ('FIN', 1061), ('HS', 5318), ('ANTH', 1144), ('CHEM', 2322), ('PHIL', 917), ('HIST', 925), ('PSYC', 1704), ('WGS', 295), ('ENG', 1109), ('POL', 946), ('BIOL', 3085), ('NBIO', 409), ('CHIN', 383), ('MATH', 1785), ('MUS', 838), ('SOC', 931), ('BCBP', 92), ('BIOT', 32), ('ED', 785), ('CLAS', 236), ('COMH', 0), ('COSI', 2223), ('GRK', 32), ('LAT', 47), ('THA', 525), ('PHYS', 1097), ('NEJS', 442), ('NEUR', 156), ('PMED', 0), ('ESL', 54), ('BUS/FIN', 76), ('BUS/ECON', 43), ('ECON/FIN', 76), ('HS/POL', 6), ('HWL', 2734), ('GER', 78), ('JAPN', 227), ('KOR', 103), ('RUS', 67), ('ITAL', 93), ('HISP', 648), ('FREN', 222), ('IGS', 300), ('AMST', 215), ('AAAS', 183), ('BCHM', 368), ('BIPH', 4), ('EAS', 7), ('COML', 22), ('SAS', 14), ('YDSH', 24), ('SJSP', 7), ('REL', 52), ('PAX', 26), ('LGLS', 615), ('QBIO', 48), ('BIBC', 26), ('HSSP', 559), ('ENVS', 375), ('ECS', 9), ('FILM', 106), ('FA', 992), ('HOID', 0), ('IIM', 13), ('CAST', 72), ('IMES', 13), ('LALS', 43), ('LING', 301), ('JOUR', 171), ('HBRW', 160), ('NPSY', 389), ('ARBC', 70), ('INT', 50), ('CA', 41), ('EBIO', 1), ('AAAS/WGS', 89), ('HUM', 9), ('EL', 262), ('CBIO', 22), ('AMST/ENG', 37), ('RECS/THA', 14), ('UWS', 757), ('COMP', 99), ('MERS', 0), ('AAS/AAPI', 13), ('AAPI/HIS', 56), ('RECS', 33), ('AAPI/WGS', 55), ('AAAS/HIS', 48), ('BISC', 52), ('AAPI', 1), ('GS', 0), ('POL/WGS', 24), ('HUM/UWS', 36), ('CHSC', 20), ('AMST/MUS', 22), ('HIST/SOC', 15), ('QR', 30), ('CLAS/ENG', 18), ('ANTH/WGS', 26), ('HIST/WGS', 21), ('CLAS/NEJ', 20), ('ECS/ENG', 18), ('RBIF', 109), ('RBOT', 45), ('RCOM', 62), ('RDFT', 34), ('RDMD', 157), ('RHIN', 65), ('RIAS', 49), ('RIDT', 61), ('RMGT', 97), ('RPJM', 211), ('RSAN', 165), ('RSEG', 68), ('RUCD', 239), ('GECS', 10)]\n",
      "1. Number of faculty who taught courses last year: 904\n",
      "2. Number of students who enrolled in COSI classes: 2223\n",
      "3. Median number of students enrolled in COSI classes who have an enrollment size of >=10: 37\n",
      "[(784, 'HWL'), (186, 'CHEM'), (186, 'BIOL'), (181, 'BIOL'), (180, 'CHEM'), (175, 'HS'), (170, 'PSYC'), (166, 'PSYC'), (166, 'COSI'), (150, 'COSI')]\n"
     ]
    }
   ],
   "source": [
    "faculty_members = set([])\n",
    "cnt_of_students_in_COSI = 0\n",
    "\n",
    "median_COSI_courses = [course['enrolled'] for course in courses if course['subject'] == 'COSI' and course['enrolled'] >= 10]\n",
    "subject_and_students = [tuple([course['enrolled'], course['subject']]) for course in courses if course['enrolled'] >= 10]\n",
    "\n",
    "for course in courses:\n",
    "    faculty_members.add(course['instructor'])\n",
    "    if course['subject'] == 'COSI':\n",
    "        cnt_of_students_in_COSI += course['enrolled']\n",
    "\n",
    "dic = {}\n",
    "for course in courses:\n",
    "    if course['subject'] in dic:\n",
    "       dic[course['subject']] = dic[course['subject']] + course['enrolled']\n",
    "    else: \n",
    "        dic.update({course['subject']: course['enrolled']})\n",
    "        \n",
    "sor\n",
    "\n",
    "tupleDic = [(k, v) for k, v in dic.items()]\n",
    "\n",
    "print(\"list = \" + str(list))\n",
    "    \n",
    "    \n",
    "print(\"1. Number of faculty who taught courses last year: \"+ str(len(faculty_members)))\n",
    "print(\"2. Number of students who enrolled in COSI classes: \" + str(cnt_of_students_in_COSI))\n",
    "print(\"3. Median number of students enrolled in COSI classes who have an enrollment size of >=10: \" + str(median(median_COSI_courses)))\n",
    "print(sorted(subject_and_students , reverse = True)[:10])\n",
    "\n"
   ]
  },
  {
   "cell_type": "code",
   "execution_count": null,
   "metadata": {},
   "outputs": [],
   "source": []
  }
 ],
 "metadata": {
  "kernelspec": {
   "display_name": "Python 3 (ipykernel)",
   "language": "python",
   "name": "python3"
  },
  "language_info": {
   "codemirror_mode": {
    "name": "ipython",
    "version": 3
   },
   "file_extension": ".py",
   "mimetype": "text/x-python",
   "name": "python",
   "nbconvert_exporter": "python",
   "pygments_lexer": "ipython3",
   "version": "3.9.7"
  }
 },
 "nbformat": 4,
 "nbformat_minor": 4
}
