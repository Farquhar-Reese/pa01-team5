{
 "cells": [
  {
   "cell_type": "markdown",
   "metadata": {},
   "source": [
    "# Courses Demo\n",
    "This Jupyter notebook is for exploring the data set courses20-21.json\n",
    "which consists of all Brandeis courses in the 20-21 academic year (Fall20, Spr21, Sum21) \n",
    "which had at least 1 student enrolled.\n",
    "\n",
    "First we need to read the json file into a list of Python dictionaries"
   ]
  },
  {
   "cell_type": "code",
   "execution_count": null,
   "metadata": {},
   "outputs": [],
   "source": [
    "import json"
   ]
  },
  {
   "cell_type": "code",
   "execution_count": null,
   "metadata": {},
   "outputs": [],
   "source": [
    "with open(\"courses20-21.json\",\"r\",encoding='utf-8') as jsonfile:\n",
    "    courses = json.load(jsonfile)"
   ]
  },
  {
   "cell_type": "markdown",
   "metadata": {},
   "source": [
    "## Structure of a course\n",
    "Next we look at the fields of each course dictionary and their values"
   ]
  },
  {
   "cell_type": "code",
   "execution_count": null,
   "metadata": {},
   "outputs": [],
   "source": [
    "print('there are',len(courses),'courses in the dataset')\n",
    "print('here is the data for course 1246')\n",
    "courses[1246]"
   ]
  },
  {
   "cell_type": "markdown",
   "metadata": {},
   "source": [
    "## Cleaning the data\n",
    "If we want to sort courses by instructor or by code, we need to replace the lists with tuples (which are immutable lists)"
   ]
  },
  {
   "cell_type": "code",
   "execution_count": null,
   "metadata": {},
   "outputs": [],
   "source": [
    "for course in courses:\n",
    "        course['instructor'] = tuple(course['instructor'])\n",
    "        course['coinstructors'] = tuple([tuple(f) for f in course['coinstructors']])\n",
    "        course['code']= tuple(course['code'])"
   ]
  },
  {
   "cell_type": "code",
   "execution_count": null,
   "metadata": {},
   "outputs": [],
   "source": [
    "print('notice that the instructor and code are tuples now')\n",
    "courses[1246]"
   ]
  },
  {
   "cell_type": "markdown",
   "metadata": {},
   "source": [
    "# Exploring the data set\n",
    "Now we will show how to use straight python to explore the data set and answer some interesting questions. Next week we will start learning Pandas/Numpy which are packages that make it easier to explore large dataset efficiently.\n",
    "\n",
    "Here are some questions we can try to asnwer:\n",
    "* what are all of the subjects of courses (e.g. COSI, MATH, JAPN, PHIL, ...)\n",
    "* which terms are represented?\n",
    "* how many instructors taught at Brandeis last year?\n",
    "* what were the five largest course sections?\n",
    "* what were the five largest courses (where we combine sections)?\n",
    "* which are the five largest subjects measured by number of courses offered?\n",
    "* which are the five largest courses measured by number of students taught?\n",
    "* which course had the most sections taught in 20-21?\n",
    "* who are the top five faculty in terms of number of students taught?\n",
    "* etc."
   ]
  },
  {
   "cell_type": "code",
   "execution_count": null,
   "metadata": {},
   "outputs": [],
   "source": [
    "#method for finding median of a list\n",
    "def median(l):\n",
    "    half = len(l) // 2\n",
    "    l.sort()\n",
    "    if not len(l) % 2:\n",
    "        return (l[half - 1] + l[half]) / 2\n",
    "    return l[half]"
   ]
  },
  {
   "cell_type": "code",
   "execution_count": null,
   "metadata": {},
   "outputs": [],
   "source": [
    "faculty_members = set([])\n",
    "cnt_of_students_in_COSI = 0\n",
    "\n",
    "median_COSI_courses = [course['enrolled'] for course in courses if course['subject'] == 'COSI' and course['enrolled'] >= 10]\n",
    "subject_and_students = [tuple([course['enrolled'], course['subject']]) for course in courses if course['enrolled'] >= 10]\n",
    "\n",
    "\n",
    "for course in courses:\n",
    "    if course['subject'] == 'COSI':\n",
    "        cnt_of_students_in_COSI += course['enrolled']\n",
    "        faculty_members.add(course['instructor'])\n",
    "\n",
    "dic = {}\n",
    "for course in courses:\n",
    "    if course['subject'] in dic:\n",
    "       dic[course['subject']] = dic[course['subject']] + course['enrolled']\n",
    "    else: \n",
    "        dic.update({course['subject']: course['enrolled']})\n",
    "        \n",
    "\n",
    "tupleDic = [(v, k) for k, v in dic.items()]\n",
    "\n",
    "#print(\"list = \" + str(list))\n",
    "\n",
    "subject_dic = {}\n",
    "for course in courses:\n",
    "    if course['subject'] in subject_dic: \n",
    "        subject_dic[course['subject']] += 1\n",
    "    else:\n",
    "        subject_dic[course['subject']] = 1\n",
    "\n",
    "rev_sub_dic = [(v, k) for k, v in subject_dic.items()]\n",
    "\n",
    "#counts professors only once, using set in the dictionary to maintain uniqueness\n",
    "instructor_dic = {}\n",
    "for course in courses:\n",
    "    if course['subject'] in instructor_dic:\n",
    "        instructor_dic[course['subject']].add(course['instructor'])\n",
    "    else:\n",
    "        instructor_dic[course['subject']] = set([course['instructor']])\n",
    "\n",
    "instructor_dic = [(len(v), k) for k , v in instructor_dic.items()]\n",
    "\n",
    "instructor_and_students = {}\n",
    "for course in courses:\n",
    "    if course['instructor'] in instructor_and_students:\n",
    "        instructor_and_students[course['instructor']] += course['enrolled']\n",
    "    else:\n",
    "        instructor_and_students[course['instructor']] = course['enrolled']\n",
    "instructor_and_students = [(v,k[0]+' ' +k[1]) for k , v in instructor_and_students.items()]\n",
    "\n",
    "top_courses = {}\n",
    "for course in courses:\n",
    "    if course['code'] in top_courses:\n",
    "        top_courses[course['code']] += 1\n",
    "    else:\n",
    "        top_courses[course['code']] = 1\n",
    "        \n",
    "top_courses = [(v,' '.join(k)) for k , v in top_courses.items()]"
   ]
  },
  {
   "cell_type": "code",
   "execution_count": null,
   "metadata": {},
   "outputs": [],
   "source": [
    "print(\"a. Number of faculty who taught courses last year: \"+ str(len(faculty_members)))\n",
    "print()\n",
    "print(\"b. Number of students who enrolled in COSI classes: \" + str(cnt_of_students_in_COSI))\n",
    "print()\n",
    "print(\"c. Median number of students enrolled in COSI classes who have an enrollment size of >=10: \" + str(median(median_COSI_courses)))\n",
    "print()\n",
    "print(\"d. top 10 subjects in terms of number of students taught: \" , sorted(tupleDic, reverse = True)[:10])\n",
    "print()\n",
    "print(\"e. This list contains top 10 most taught subjects for courses last year: \", sorted(rev_sub_dic , reverse = True)[:10])\n",
    "print()\n",
    "print(\"f. This list contains top 10 most taught subjects for courses last year: \", sorted(instructor_dic , reverse = True)[:10])\n",
    "print()\n",
    "print(\"g. top 20 facutlty \" , sorted(instructor_and_students, reverse = True)[:20])\n",
    "print()\n",
    "print(\"h. top 20 courses taken by students\", sorted(top_courses , reverse = True)[:20])"
   ]
  }
 ],
 "metadata": {
  "kernelspec": {
   "display_name": "Python 3",
   "language": "python",
   "name": "python3"
  },
  "language_info": {
   "codemirror_mode": {
    "name": "ipython",
    "version": 3
   },
   "file_extension": ".py",
   "mimetype": "text/x-python",
   "name": "python",
   "nbconvert_exporter": "python",
   "pygments_lexer": "ipython3",
   "version": "3.8.8"
  }
 },
 "nbformat": 4,
 "nbformat_minor": 4
}
